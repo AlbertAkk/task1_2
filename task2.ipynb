{
 "cells": [
  {
   "cell_type": "code",
   "execution_count": 1,
   "id": "4756541a-c770-4bd0-9dd6-18bcca30c400",
   "metadata": {},
   "outputs": [
    {
     "name": "stderr",
     "output_type": "stream",
     "text": [
      "<>:38: SyntaxWarning: invalid escape sequence '\\<'\n",
      "<>:38: SyntaxWarning: invalid escape sequence '\\<'\n",
      "C:\\Users\\alber\\AppData\\Local\\Temp\\ipykernel_10844\\1400548735.py:38: SyntaxWarning: invalid escape sequence '\\<'\n",
      "  text = re.sub('\\<(.*?)\\>', '', text)\n"
     ]
    },
    {
     "name": "stdin",
     "output_type": "stream",
     "text": [
      "Enter url of a medium article:  https://medium.com/@grantpiperwriting/why-cant-robots-click-the-i-m-not-a-robot-box-on-websites-370f239ba7f4\n"
     ]
    },
    {
     "name": "stdout",
     "output_type": "stream",
     "text": [
      "paragraphs text = \n",
      " [<p class=\"bf b dx dy dz ea eb ec ed ee ef eg du\"><span><button class=\"bf b dx dy eh dz ea ei eb ec ej ek ee el em eg eo ep eq er es et eu ev ew ex ey ez fa fb fc fd bm fe ff\" data-testid=\"headerSignUpButton\">Sign up</button></span></p>, <p class=\"bf b dx dy dz ea eb ec ed ee ef eg du\"><span><a class=\"af ag ah ai aj ak al am an ao ap aq ar as at\" data-testid=\"headerSignInButton\" href=\"https://medium.com/m/signin?operation=login&amp;redirect=https%3A%2F%2Fgrantpiperwriting.medium.com%2Fwhy-cant-robots-click-the-i-m-not-a-robot-box-on-websites-370f239ba7f4&amp;source=post_page---two_column_layout_nav-----------------------global_nav-----------\" rel=\"noopener follow\">Sign in</a></span></p>, <p class=\"bf b dx dy dz ea eb ec ed ee ef eg du\"><span><button class=\"bf b dx dy eh dz ea ei eb ec ej ek ee el em eg eo ep eq er es et eu ev ew ex ey ez fa fb fc fd bm fe ff\" data-testid=\"headerSignUpButton\">Sign up</button></span></p>, <p class=\"bf b dx dy dz ea eb ec ed ee ef eg du\"><span><a class=\"af ag ah ai aj ak al am an ao ap aq ar as at\" data-testid=\"headerSignInButton\" href=\"https://medium.com/m/signin?operation=login&amp;redirect=https%3A%2F%2Fgrantpiperwriting.medium.com%2Fwhy-cant-robots-click-the-i-m-not-a-robot-box-on-websites-370f239ba7f4&amp;source=post_page---two_column_layout_nav-----------------------global_nav-----------\" rel=\"noopener follow\">Sign in</a></span></p>, <p class=\"bf b bg z du\">Member-only story</p>, <p class=\"bf b ja jb bk\"><a class=\"af ag ah ai aj ak al am an ao ap aq ar jc\" data-testid=\"authorName\" href=\"/?source=post_page-----370f239ba7f4--------------------------------\" rel=\"noopener follow\">Grant Piper</a></p>, <p class=\"bf b ja jb du\"><span><a class=\"jf jg ah ai aj ak al am an ao ap aq ar ex jh ji\" href=\"https://medium.com/m/signin?actionUrl=https%3A%2F%2Fmedium.com%2F_%2Fsubscribe%2Fuser%2Fdf29d70fb6bd&amp;operation=register&amp;redirect=https%3A%2F%2Fgrantpiperwriting.medium.com%2Fwhy-cant-robots-click-the-i-m-not-a-robot-box-on-websites-370f239ba7f4&amp;user=Grant+Piper&amp;userId=df29d70fb6bd&amp;source=post_page-df29d70fb6bd----370f239ba7f4---------------------post_header-----------\" rel=\"noopener follow\">Follow</a></span></p>, <p class=\"bf b dv z du\"><span class=\"lp\">--</span></p>, <p class=\"bf b dv z du\"><span class=\"pw-responses-count lq hu\">176</span></p>, <p class=\"bf b bg z du\">Share</p>, <p class=\"pw-post-body-paragraph no np hd nq b hx nr ns nt ia nu nv nw nx ny nz oa ob oc od oe of og oh oi oj gw bk ok\" id=\"0728\"><span class=\"l ol om on bo oo op oq or os fj\">If</span> you’ve browsed the internet for any amount of time, you will likely come across a reCAPTCHA box. These boxes appear when you first enter certain websites and ask you to check a box to prove that you are not a robot. The box is labeled “I’m not a robot,” and everyone clicks without a second thought because they aren’t robots. Sometimes, clicking the box forces you to do a series of visual puzzles that ask you things like clicking on all of the images with a motorcycle in them or clicking on all of the pictures with streetlights in them. These basic tests lead people to believe that robots cannot do them. But that isn’t the case.</p>, <p class=\"pw-post-body-paragraph no np hd nq b hx nr ns nt ia nu nv nw nx ny nz oa ob oc od oe of og oh oi oj gw bk\" id=\"62b3\">Online robots, or just “bots,” as they are often called, are highly advanced. They have been trained to do everything from playing Runescape to running entire X (formerly Twitter) account farms. So they can clearly click on a box or an image featuring a stop sign. The trick is that these tests aren’t determining whether or not you <strong class=\"nq he\">can </strong>click these things but <strong class=\"nq he\">how </strong>you click them.</p>, <p class=\"pw-post-body-paragraph no np hd nq b hx nr ns nt ia nu nv nw nx ny nz oa ob oc od oe of og oh oi oj gw bk\" id=\"b97d\">The way that reCAPTCHA boxes determine whether you are human or not is how slow and inefficient you are compared to a machine.</p>, <p class=\"bf b dv z du\"><span class=\"lp\">--</span></p>, <p class=\"bf b dv z du\"><span class=\"lp\">--</span></p>, <p class=\"bf b bg z du\"><span class=\"pw-responses-count lq hu\">176</span></p>, <p class=\"bf b bg z bk\"><span class=\"gw\">Professional writer. Amateur historian. Husband, father, Christian.</span></p>, <p class=\"bf b dv z du\">Help</p>, <p class=\"bf b dv z du\">Status</p>, <p class=\"bf b dv z du\">About</p>, <p class=\"bf b dv z du\">Careers</p>, <p class=\"bf b dv z du\">Press</p>, <p class=\"bf b dv z du\">Blog</p>, <p class=\"bf b dv z du\">Privacy</p>, <p class=\"bf b dv z du\">Terms</p>, <p class=\"bf b dv z du\">Text to speech</p>, <p class=\"bf b dv z du\">Teams</p>]\n",
      "why-cant-robots-click-the-i-m-not-a-robot-box-on-websites-370f239ba7f4\n",
      "File saved in directory scraped_articles/why-cant-robots-click-the-i-m-not-a-robot-box-on-websites-370f239ba7f4.txt\n"
     ]
    }
   ],
   "source": [
    "# Python script to scrape an article given the url of the article and store the extracted text in a file\n",
    "# Url: https://medium.com/@subashgandyer/papa-what-is-a-neural-network-c5e5cc427c7\n",
    "\n",
    "import os\n",
    "import requests\n",
    "import re\n",
    "# Code here - Import BeautifulSoup library\n",
    "from bs4 import BeautifulSoup\n",
    "# Code ends here\n",
    "\n",
    "# function to get the html source text of the medium article\n",
    "def get_page():\n",
    "\tglobal url\n",
    "\t\n",
    "\t# Code here - Ask the user to input \"Enter url of a medium article: \" and collect it in url\n",
    "\turl = input(\"Enter url of a medium article: \")\n",
    "\t# Code ends here\n",
    "\t\n",
    "\t# handling possible error\n",
    "\tif not re.match(r'https?://medium.com/',url):\n",
    "\t\tprint('Please enter a valid website, or make sure it is a medium article')\n",
    "\t\tsys.exit(1)\n",
    "\n",
    "\t# Code here - Call get method in requests object, pass url and collect it in res\n",
    "\tres = requests.get(url)\n",
    "\t# Code ends here\n",
    "\n",
    "\tres.raise_for_status()\n",
    "\tsoup = BeautifulSoup(res.text, 'html.parser')\n",
    "\treturn soup\n",
    "\n",
    "# function to remove all the html tags and replace some with specific strings\n",
    "def clean(text):\n",
    "    rep = {\"<br>\": \"\\n\", \"<br/>\": \"\\n\", \"<li>\":  \"\\n\"}\n",
    "    rep = dict((re.escape(k), v) for k, v in rep.items()) \n",
    "    pattern = re.compile(\"|\".join(rep.keys()))\n",
    "    text = pattern.sub(lambda m: rep[re.escape(m.group(0))], text)\n",
    "    text = re.sub('\\<(.*?)\\>', '', text)\n",
    "    return text\n",
    "\n",
    "\n",
    "def collect_text(soup):\n",
    "\ttext = f'url: {url}\\n\\n'\n",
    "\tpara_text = soup.find_all('p')\n",
    "\tprint(f\"paragraphs text = \\n {para_text}\")\n",
    "\tfor para in para_text:\n",
    "\t\ttext += f\"{para.text}\\n\\n\"\n",
    "\treturn text\n",
    "\n",
    "# function to save file in the current directory\n",
    "def save_file(text):\n",
    "\tif not os.path.exists('./scraped_articles'):\n",
    "\t\tos.mkdir('./scraped_articles')\n",
    "\tname = url.split(\"/\")[-1]\n",
    "\tprint(name)\n",
    "\tfname = f'scraped_articles/{name}.txt'\n",
    "\t\n",
    "\t# Code here - write a file using with (2 lines)\n",
    "\twith open(fname, 'w') as f:\n",
    "\t\tf.write(text)\n",
    "\n",
    "\t# Code ends here\n",
    "\n",
    "\tprint(f'File saved in directory {fname}')\n",
    "\n",
    "\n",
    "if __name__ == '__main__':\n",
    "\ttext = collect_text(get_page())\n",
    "\tsave_file(text)\n",
    "\t# Instructions to Run this python code\n",
    "\t# Give url as https://medium.com/@subashgandyer/papa-what-is-a-neural-network-c5e5cc427c7"
   ]
  },
  {
   "cell_type": "code",
   "execution_count": null,
   "id": "ca0ccca8-0eb1-4293-8a12-f8824698523e",
   "metadata": {},
   "outputs": [],
   "source": []
  }
 ],
 "metadata": {
  "kernelspec": {
   "display_name": "Python 3 (ipykernel)",
   "language": "python",
   "name": "python3"
  },
  "language_info": {
   "codemirror_mode": {
    "name": "ipython",
    "version": 3
   },
   "file_extension": ".py",
   "mimetype": "text/x-python",
   "name": "python",
   "nbconvert_exporter": "python",
   "pygments_lexer": "ipython3",
   "version": "3.12.4"
  }
 },
 "nbformat": 4,
 "nbformat_minor": 5
}
